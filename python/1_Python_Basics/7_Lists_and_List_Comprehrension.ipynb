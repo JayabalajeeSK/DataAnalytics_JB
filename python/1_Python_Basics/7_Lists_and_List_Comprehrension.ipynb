{
 "cells": [
  {
   "cell_type": "markdown",
   "metadata": {},
   "source": [
    "#### Introduction To Lists\n",
    "- Lists are ordered, mutable collections of items.\n",
    "- They can contain items of different data types."
   ]
  },
  {
   "cell_type": "markdown",
   "metadata": {},
   "source": [
    "##### Video Outline:\n",
    "1. Introduction to Lists\n",
    "2. Creating Lists\n",
    "3. Accessing List Elements\n",
    "4. Modifying List Elements\n",
    "5. List Methods\n",
    "6. Slicing Lists\n",
    "7. Iterating Over Lists\n",
    "8. List Comprehensions\n",
    "9. Nested Lists\n",
    "10. Practical Examples and Common Errors"
   ]
  },
  {
   "cell_type": "code",
   "execution_count": null,
   "metadata": {},
   "outputs": [
    {
     "name": "stdout",
     "output_type": "stream",
     "text": [
      "<class 'list'>\n"
     ]
    }
   ],
   "source": [
    "lst=[]\n",
    "print(type(lst)) # <class 'list'>\n",
    "#lst=[]"
   ]
  },
  {
   "cell_type": "code",
   "execution_count": null,
   "metadata": {},
   "outputs": [
    {
     "name": "stdout",
     "output_type": "stream",
     "text": [
      "['Krish', 'Jack', 'Jacob', 1, 2, 3, 4, 5]\n"
     ]
    }
   ],
   "source": [
    "names=[\"Krish\",\"Jack\",\"Jacob\",1,2,3,4,5]\n",
    "print(names)\n",
    "# ['Krish', 'Jack', 'Jacob', 1, 2, 3, 4, 5]"
   ]
  },
  {
   "cell_type": "code",
   "execution_count": null,
   "metadata": {},
   "outputs": [
    {
     "name": "stdout",
     "output_type": "stream",
     "text": [
      "[1, 'Hello', 3.14, True]\n"
     ]
    }
   ],
   "source": [
    "mixed_list=[1,\"Hello\",3.14,True]\n",
    "print(mixed_list)\n",
    "# [1, 'Hello', 3.14, True]"
   ]
  },
  {
   "cell_type": "code",
   "execution_count": null,
   "metadata": {},
   "outputs": [
    {
     "name": "stdout",
     "output_type": "stream",
     "text": [
      "apple\n",
      "cherry\n",
      "gauva\n",
      "gauva\n",
      "['banana', 'cherry', 'kiwi', 'gauva']\n",
      "['banana', 'cherry']\n",
      "['apple', 'watermelon', 'cherry', 'kiwi', 'gauva']\n"
     ]
    }
   ],
   "source": [
    "### Accessing List Elements \n",
    "# [0 : n] - first to last\n",
    "# [-1 : -n] - last to first\n",
    "\n",
    "fruits=[\"apple\",\"banana\",\"cherry\",\"kiwi\",\"gauva\"]\n",
    "#Indexing\n",
    "print(fruits[0])\n",
    "print(fruits[2])\n",
    "print(fruits[4])\n",
    "print(fruits[-1])\n",
    "\n",
    "# apple\n",
    "# cherry\n",
    "# gauva\n",
    "# gauva\n",
    "\n",
    "#traversing or iterating\n",
    "print(fruits[1:]) # ['banana', 'cherry', 'kiwi', 'gauva']\n",
    "print(fruits[1:3]) # ['banana', 'cherry']\n",
    "\n",
    "## Modifying The List elements\n",
    "fruits\n",
    "fruits[1]=\"watermelon\"\n",
    "print(fruits) #['apple', 'watermelon', 'cherry', 'kiwi', 'gauva']"
   ]
  },
  {
   "cell_type": "code",
   "execution_count": null,
   "metadata": {},
   "outputs": [
    {
     "data": {
      "text/plain": [
       "['apple', 'w', 'a', 't', 'e', 'r', 'm', 'e', 'l', 'o', 'n']"
      ]
     },
     "execution_count": 7,
     "metadata": {},
     "output_type": "execute_result"
    }
   ],
   "source": [
    "fruits[1:]=\"watermelon\"\n",
    "fruits\n",
    "# ['apple', 'w', 'a', 't', 'e', 'r', 'm', 'e', 'l', 'o', 'n']"
   ]
  },
  {
   "cell_type": "code",
   "execution_count": null,
   "metadata": {},
   "outputs": [
    {
     "name": "stdout",
     "output_type": "stream",
     "text": [
      "['apple', 'w', 'a', 't', 'e', 'r', 'm', 'e', 'l', 'o', 'n', 'orange']\n"
     ]
    }
   ],
   "source": [
    "## List Methods\n",
    "\n",
    "fruits.append(\"orange\") ## Add an item to the end\n",
    "print(fruits)\n",
    "# ['apple', 'w', 'a', 't', 'e', 'r', 'm', 'e', 'l', 'o', 'n', 'orange']"
   ]
  },
  {
   "cell_type": "code",
   "execution_count": null,
   "metadata": {},
   "outputs": [
    {
     "name": "stdout",
     "output_type": "stream",
     "text": [
      "['apple', 'watermelon', 'w', 'a', 't', 'e', 'r', 'm', 'e', 'l', 'o', 'n', 'orange']\n"
     ]
    }
   ],
   "source": [
    "fruits.insert(1,\"watermelon\")\n",
    "print(fruits)\n",
    "#['apple', 'watermelon', 'w', 'a', 't', 'e', 'r', 'm', 'e', 'l', 'o', 'n', 'orange']"
   ]
  },
  {
   "cell_type": "code",
   "execution_count": null,
   "metadata": {},
   "outputs": [
    {
     "name": "stdout",
     "output_type": "stream",
     "text": [
      "['apple', 'watermelon', 'w', 'a', 't', 'r', 'm', 'e', 'l', 'o', 'n', 'orange']\n"
     ]
    }
   ],
   "source": [
    "#['apple', 'watermelon', 'w', 'a', 't', 'e', 'r', 'm', 'e', 'l', 'o', 'n', 'orange']\n",
    "fruits.remove(\"e\") ## Removing the first occurance of an item\n",
    "print(fruits)\n",
    "#['apple', 'watermelon', 'w', 'a', 't', 'r', 'm', 'e', 'l', 'o', 'n', 'orange']"
   ]
  },
  {
   "cell_type": "code",
   "execution_count": null,
   "metadata": {},
   "outputs": [
    {
     "name": "stdout",
     "output_type": "stream",
     "text": [
      "['apple', 'watermelon', 'w', 'a', 't', 'r', 'm', 'e', 'l', 'o', 'n']\n",
      "orange\n"
     ]
    }
   ],
   "source": [
    "## Remove and return the last element\n",
    "#['apple', 'watermelon', 'w', 'a', 't', 'r', 'm', 'e', 'l', 'o', 'n', 'orange']\n",
    "popped_fruits=fruits.pop()\n",
    "print(fruits)\n",
    "print(popped_fruits)\n",
    "# ['apple', 'watermelon', 'w', 'a', 't', 'r', 'm', 'e', 'l', 'o', 'n']\n",
    "# orange\n"
   ]
  },
  {
   "cell_type": "code",
   "execution_count": null,
   "metadata": {},
   "outputs": [
    {
     "name": "stdout",
     "output_type": "stream",
     "text": [
      "3\n"
     ]
    },
    {
     "data": {
      "text/plain": [
       "['apple', 'watermelon', 'w', 'a', 't', 'r', 'm', 'e', 'l', 'o', 'n', 'a', 'a']"
      ]
     },
     "execution_count": 19,
     "metadata": {},
     "output_type": "execute_result"
    }
   ],
   "source": [
    "#return index of that first occurance element\n",
    "fruits.append(\"a\")\n",
    "# ['apple', 'watermelon', 'w', 'a', 't', 'r', 'm', 'e', 'l', 'o', 'n', 'a', 'a']\n",
    "index=fruits.index(\"a\")\n",
    "print(index) #3\n",
    "fruits"
   ]
  },
  {
   "cell_type": "code",
   "execution_count": null,
   "metadata": {},
   "outputs": [
    {
     "name": "stdout",
     "output_type": "stream",
     "text": [
      "['apple', 'watermelon', 'banana', 'banana', 'banana', 'banana', 'banana', 'w', 'a', 't', 'r', 'm', 'e', 'l', 'o', 'n', 'a', 'a']\n",
      "5\n"
     ]
    }
   ],
   "source": [
    "fruits.insert(2,\"banana\")\n",
    "print(fruits)\n",
    "# ['apple', 'watermelon', 'banana', 'banana', 'banana', 'banana', 'banana', 'w', 'a', 't', 'r', 'm', 'e', 'l', 'o', 'n', 'a', 'a']\n",
    "print(fruits.count(\"banana\")) #5"
   ]
  },
  {
   "cell_type": "code",
   "execution_count": null,
   "metadata": {},
   "outputs": [
    {
     "name": "stdout",
     "output_type": "stream",
     "text": [
      "['a', 'a', 'a', 'apple', 'banana', 'banana', 'banana', 'banana', 'banana', 'e', 'l', 'm', 'n', 'o', 'r', 't', 'w', 'watermelon']\n"
     ]
    }
   ],
   "source": [
    "print(fruits)\n",
    "fruits.sort() ## SSorts the list in ascending order\n",
    "#['a', 'a', 'a', 'apple', 'banana', 'banana', 'banana', 'banana', 'banana', 'e', 'l', 'm', 'n', 'o', 'r', 't', 'w', 'watermelon']"
   ]
  },
  {
   "cell_type": "code",
   "execution_count": null,
   "metadata": {},
   "outputs": [
    {
     "data": {
      "text/plain": [
       "['watermelon',\n",
       " 'w',\n",
       " 't',\n",
       " 'r',\n",
       " 'o',\n",
       " 'n',\n",
       " 'm',\n",
       " 'l',\n",
       " 'e',\n",
       " 'banana',\n",
       " 'banana',\n",
       " 'banana',\n",
       " 'banana',\n",
       " 'banana',\n",
       " 'apple',\n",
       " 'a',\n",
       " 'a',\n",
       " 'a']"
      ]
     },
     "execution_count": 37,
     "metadata": {},
     "output_type": "execute_result"
    }
   ],
   "source": [
    "fruits.reverse() ## REverse the list\n",
    "fruits\n",
    "# ['watermelon',\n",
    "#  'w',\n",
    "#  't',\n",
    "#  'r',\n",
    "#  'o',\n",
    "#  'n',\n",
    "#  'm',\n",
    "#  'l',\n",
    "#  'e',\n",
    "#  'banana',\n",
    "#  'banana',\n",
    "#  'banana',\n",
    "#  'banana',\n",
    "#  'banana',\n",
    "#  'apple',\n",
    "#  'a',\n",
    "#  'a',\n",
    "#  'a']"
   ]
  },
  {
   "cell_type": "code",
   "execution_count": null,
   "metadata": {},
   "outputs": [
    {
     "name": "stdout",
     "output_type": "stream",
     "text": [
      "[]\n"
     ]
    }
   ],
   "source": [
    "fruits.clear() ## Remove all items from the list\n",
    "print(fruits)\n",
    "#[]"
   ]
  },
  {
   "cell_type": "code",
   "execution_count": null,
   "metadata": {},
   "outputs": [
    {
     "name": "stdout",
     "output_type": "stream",
     "text": [
      "[3, 4, 5]\n",
      "[1, 2, 3, 4, 5]\n",
      "[6, 7, 8, 9, 10]\n",
      "[1, 3, 5, 7, 9]\n",
      "[10, 9, 8, 7, 6, 5, 4, 3, 2, 1]\n"
     ]
    },
    {
     "data": {
      "text/plain": [
       "[10, 8, 6, 4, 2]"
      ]
     },
     "execution_count": 42,
     "metadata": {},
     "output_type": "execute_result"
    }
   ],
   "source": [
    "## Slicing List\n",
    "numbers = [1, 2, 3, 4, 5, 6, 7, 8, 9, 10]\n",
    "print(numbers[2:5]) #[3, 4, 5]\n",
    "print(numbers[:5]) #[1, 2, 3, 4, 5]\n",
    "print(numbers[5:]) #[6, 7, 8, 9, 10]\n",
    "print(numbers[::2]) #[1, 3, 5, 7, 9]\n",
    "print(numbers[::-1]) #[10, 9, 8, 7, 6, 5, 4, 3, 2, 1] - reverse list\n",
    "numbers[::3] #start:end:step - make 3 steps - [1, 4, 7, 10]\n",
    "numbers[::-2] #make 2 steps from reverse - [10, 8, 6, 4, 2]"
   ]
  },
  {
   "cell_type": "code",
   "execution_count": null,
   "metadata": {},
   "outputs": [
    {
     "name": "stdout",
     "output_type": "stream",
     "text": [
      "1\n",
      "2\n",
      "3\n",
      "4\n",
      "5\n",
      "6\n",
      "7\n",
      "8\n",
      "9\n",
      "10\n"
     ]
    }
   ],
   "source": [
    "### Iterating Over List\n",
    "\n",
    "for number in numbers:\n",
    "    print(number)\n",
    "# 1\n",
    "# 2\n",
    "# 3\n",
    "# 4\n",
    "# 5\n",
    "# 6\n",
    "# 7\n",
    "# 8\n",
    "# 9\n",
    "# 10"
   ]
  },
  {
   "cell_type": "code",
   "execution_count": 45,
   "metadata": {},
   "outputs": [
    {
     "name": "stdout",
     "output_type": "stream",
     "text": [
      "0 1\n",
      "1 2\n",
      "2 3\n",
      "3 4\n",
      "4 5\n",
      "5 6\n",
      "6 7\n",
      "7 8\n",
      "8 9\n",
      "9 10\n"
     ]
    }
   ],
   "source": [
    "## Iterating with index\n",
    "for index,number in enumerate(numbers):\n",
    "    print(index,number)\n",
    "# 0 1\n",
    "# 1 2\n",
    "# 2 3\n",
    "# 3 4\n",
    "# 4 5\n",
    "# 5 6\n",
    "# 6 7\n",
    "# 7 8\n",
    "# 8 9\n",
    "# 9 10"
   ]
  },
  {
   "cell_type": "code",
   "execution_count": null,
   "metadata": {},
   "outputs": [
    {
     "name": "stdout",
     "output_type": "stream",
     "text": [
      "[0, 1, 4, 9, 16, 25, 36, 49, 64, 81]\n"
     ]
    },
    {
     "data": {
      "text/plain": [
       "[0, 1, 4, 9, 16, 25, 36, 49, 64, 81]"
      ]
     },
     "execution_count": 46,
     "metadata": {},
     "output_type": "execute_result"
    }
   ],
   "source": [
    "## List comprehension\n",
    "lst=[]\n",
    "for x in range(10): #0-9\n",
    "    lst.append(x**2)\n",
    "\n",
    "print(lst)\n",
    "#[0, 1, 4, 9, 16, 25, 36, 49, 64, 81]\n",
    "\n",
    "#----------------\n",
    "[x**2 for x in range(10)]\n",
    "#[0, 1, 4, 9, 16, 25, 36, 49, 64, 81]"
   ]
  },
  {
   "cell_type": "markdown",
   "metadata": {},
   "source": [
    "##### List Comprehension\n",
    "\n",
    "Basics Syantax            [expression for item in iterable]\n",
    "\n",
    "with conditional logic    [expression for item in iterable if condition]\n",
    "\n",
    "Nested List Comprehension [expression for item1 in iterable1 for item2 in iterable2]\n",
    "\n",
    "\n"
   ]
  },
  {
   "cell_type": "code",
   "execution_count": null,
   "metadata": {},
   "outputs": [
    {
     "name": "stdout",
     "output_type": "stream",
     "text": [
      "[4, 9, 16, 25, 36, 49, 64, 81, 100]\n",
      "[8, 27, 64, 125, 216, 343, 512, 729, 1000]\n"
     ]
    }
   ],
   "source": [
    "### Basic List Comphrension\n",
    "start_num = int(input(\"Enter Staring Number:\")) #2\n",
    "end_num = int(input(\"Enter Ending Number:\")) #10\n",
    "sqaure=[num**2 for num in range(start_num, end_num+1)]\n",
    "cube=[num**3 for num in range(start_num, end_num+1)]\n",
    "print(sqaure)\n",
    "print(cube)\n",
    "# [4, 9, 16, 25, 36, 49, 64, 81, 100]\n",
    "# [8, 27, 64, 125, 216, 343, 512, 729, 1000]"
   ]
  },
  {
   "cell_type": "code",
   "execution_count": null,
   "metadata": {},
   "outputs": [
    {
     "name": "stdout",
     "output_type": "stream",
     "text": [
      "[2, 4, 6, 8, 10]\n",
      "[2, 4, 6, 8, 10]\n",
      "[3, 5, 7, 9]\n"
     ]
    }
   ],
   "source": [
    "### List Comprehension with Condition\n",
    "lst=[]\n",
    "start_num = int(input(\"Enter Staring Number:\"))#2\n",
    "end_num = int(input(\"Enter Ending Number:\"))#10\n",
    "for i in range(start_num, end_num+1):\n",
    "    if i%2==0:\n",
    "        lst.append(i)\n",
    "\n",
    "print(lst)\n",
    "#-------------------------------------------------\n",
    "\n",
    "start_num = int(input(\"Enter Staring Number:\"))#2\n",
    "end_num = int(input(\"Enter Ending Number:\"))#10\n",
    "\n",
    "even_numbers=[num for num in range(start_num, end_num+1) if num%2==0]\n",
    "odd_numbers=[num for num in range(start_num, end_num+1) if num%2==1]\n",
    "\n",
    "print(even_numbers)\n",
    "print(odd_numbers)\n",
    "# [2, 4, 6, 8, 10]\n",
    "# [3, 5, 7, 9]\n",
    "        "
   ]
  },
  {
   "cell_type": "code",
   "execution_count": null,
   "metadata": {},
   "outputs": [
    {
     "name": "stdout",
     "output_type": "stream",
     "text": [
      "[[1, 'a'], [1, 'b'], [1, 'c'], [1, 'd'], [1, 'e'], [2, 'a'], [2, 'b'], [2, 'c'], [2, 'd'], [2, 'e'], [3, 'a'], [3, 'b'], [3, 'c'], [3, 'd'], [3, 'e'], [4, 'a'], [4, 'b'], [4, 'c'], [4, 'd'], [4, 'e']]\n"
     ]
    }
   ],
   "source": [
    "## Nested List Comphrension\n",
    "\n",
    "lst1=[1,2,3,4]\n",
    "lst2=['a','b','c','d',\"e\"]\n",
    "\n",
    "pair=[[i,j] for i in lst1 for j in lst2]\n",
    "\n",
    "print(pair)\n",
    "#[[1, 'a'], [1, 'b'], [1, 'c'], [1, 'd'], [1, 'e'], [2, 'a'], [2, 'b'], [2, 'c'], [2, 'd'], [2, 'e'], [3, 'a'], [3, 'b'], [3, 'c'], [3, 'd'], [3, 'e'], [4, 'a'], [4, 'b'], [4, 'c'], [4, 'd'], [4, 'e']]\n"
   ]
  },
  {
   "cell_type": "code",
   "execution_count": null,
   "metadata": {},
   "outputs": [
    {
     "name": "stdout",
     "output_type": "stream",
     "text": [
      "[5, 5, 6, 4, 13]\n"
     ]
    }
   ],
   "source": [
    "## List Comprehension with function calls\n",
    "words = [\"hello\", \"world\", \"python\", \"list\", \"comprehension\"]\n",
    "lengths = [len(word) for word in words] # excute that funtion Len for every iteration\n",
    "print(lengths)  # Output: [5, 5, 6, 4, 13]\n",
    "\n"
   ]
  },
  {
   "cell_type": "markdown",
   "metadata": {},
   "source": [
    "#### Conclusion\n",
    "List comprehensions are a powerful and concise way to create lists in Python. They are syntactically compact and can replace more verbose looping constructs. Understanding the syntax of list comprehensions will help you write cleaner and more efficient Python code."
   ]
  },
  {
   "cell_type": "code",
   "execution_count": null,
   "metadata": {},
   "outputs": [],
   "source": []
  }
 ],
 "metadata": {
  "kernelspec": {
   "display_name": "Python 3",
   "language": "python",
   "name": "python3"
  },
  "language_info": {
   "codemirror_mode": {
    "name": "ipython",
    "version": 3
   },
   "file_extension": ".py",
   "mimetype": "text/x-python",
   "name": "python",
   "nbconvert_exporter": "python",
   "pygments_lexer": "ipython3",
   "version": "3.12.0"
  }
 },
 "nbformat": 4,
 "nbformat_minor": 2
}
