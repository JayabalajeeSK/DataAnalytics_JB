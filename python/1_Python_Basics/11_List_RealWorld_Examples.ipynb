{
 "cells": [
  {
   "cell_type": "markdown",
   "metadata": {},
   "source": [
    "#### Real-World Examples Using Lists in Python\n",
    "Lists are one of the most commonly used data structures in Python, thanks to their versatility and ease of use. Here are several practical examples that illustrate their use in real-world scenarios"
   ]
  },
  {
   "cell_type": "markdown",
   "metadata": {},
   "source": [
    "##### Example 1. Manage A To Do List\n",
    "- Create a To Do List To Keep Track OF Tasks"
   ]
  },
  {
   "cell_type": "code",
   "execution_count": null,
   "metadata": {},
   "outputs": [
    {
     "name": "stdout",
     "output_type": "stream",
     "text": [
      "\n",
      "To Do List remaining:\n",
      "- jogging swimming\n"
     ]
    }
   ],
   "source": [
    "to_do_list = []\n",
    "\n",
    "# ✅ Adding a task\n",
    "add_choice = input(\"Do you want to add a task? (yes/no): \").strip().lower()\n",
    "if add_choice == \"yes\":\n",
    "    task_to_add = input(\"Enter the Task to Add: \")\n",
    "    to_do_list.append(task_to_add)\n",
    "\n",
    "# ✅ Removing a task\n",
    "remove_choice = input(\"Do you want to remove a task? (yes/no): \").strip().lower()\n",
    "if remove_choice == \"yes\":\n",
    "    task_to_remove = input(\"Enter the Task to Remove: \")\n",
    "    if task_to_remove in to_do_list:\n",
    "        to_do_list.remove(task_to_remove)\n",
    "    else:\n",
    "        print(\"Task not found in the list.\")\n",
    "\n",
    "# ✅ Checking a specific task\n",
    "if \"Pay bills\" in to_do_list:\n",
    "    print(\"Don't forget to pay the utility bills\")\n",
    "\n",
    "# ✅ Displaying remaining tasks\n",
    "print(\"\\nTo Do List remaining:\")\n",
    "for task in to_do_list:\n",
    "    print(f\"- {task}\")\n",
    "# To Do List remaining:\n",
    "# - jogging swimming\n"
   ]
  },
  {
   "cell_type": "markdown",
   "metadata": {},
   "source": [
    "##### Example 2: Organizing Student Grades\n",
    "- Create a list to store and calculate average grades for students"
   ]
  },
  {
   "cell_type": "code",
   "execution_count": null,
   "metadata": {},
   "outputs": [
    {
     "name": "stdout",
     "output_type": "stream",
     "text": [
      "\n",
      "Average Grade: 86.50\n",
      "Highest Grade: 98\n",
      "Lowest Grade: 67\n"
     ]
    }
   ],
   "source": [
    "# Organizing student grades\n",
    "grades = []\n",
    "\n",
    "# Adding multiple grades\n",
    "while True:\n",
    "    mark = input(\"Enter Marks (or type 'done' to finish): \")\n",
    "    if mark.lower() == \"done\":\n",
    "        break\n",
    "    grades.append(int(mark))\n",
    "\n",
    "# Checking if grades were entered\n",
    "if grades:\n",
    "    # Calculating the average grade\n",
    "    average_grade = sum(grades) / len(grades)\n",
    "    print(f\"\\nAverage Grade: {average_grade:.2f}\")\n",
    "\n",
    "    # Finding the highest and lowest grades\n",
    "    print(f\"Highest Grade: {max(grades)}\")\n",
    "    print(f\"Lowest Grade: {min(grades)}\")\n",
    "else:\n",
    "    print(\"No grades were entered.\")\n",
    "\n",
    "    \n",
    "# Average Grade: 86.50\n",
    "# Highest Grade: 98\n",
    "# Lowest Grade: 67"
   ]
  },
  {
   "cell_type": "markdown",
   "metadata": {},
   "source": [
    "##### Example 3: Managing An Inventory\n",
    "- Use a list to manage inventory items in a store"
   ]
  },
  {
   "cell_type": "code",
   "execution_count": null,
   "metadata": {},
   "outputs": [
    {
     "name": "stdout",
     "output_type": "stream",
     "text": [
      "\n",
      "--- Inventory Menu ---\n",
      "1. Add item\n",
      "2. Remove item\n",
      "3. Check stock\n",
      "4. View inventory\n",
      "5. Exit\n",
      "'juice' added to inventory.\n",
      "\n",
      "--- Inventory Menu ---\n",
      "1. Add item\n",
      "2. Remove item\n",
      "3. Check stock\n",
      "4. View inventory\n",
      "5. Exit\n",
      "'oil' added to inventory.\n",
      "\n",
      "--- Inventory Menu ---\n",
      "1. Add item\n",
      "2. Remove item\n",
      "3. Check stock\n",
      "4. View inventory\n",
      "5. Exit\n",
      "'4' added to inventory.\n",
      "\n",
      "--- Inventory Menu ---\n",
      "1. Add item\n",
      "2. Remove item\n",
      "3. Check stock\n",
      "4. View inventory\n",
      "5. Exit\n",
      "\n",
      "Current Inventory List:\n",
      "- juice\n",
      "- oil\n",
      "- 4\n",
      "\n",
      "--- Inventory Menu ---\n",
      "1. Add item\n",
      "2. Remove item\n",
      "3. Check stock\n",
      "4. View inventory\n",
      "5. Exit\n",
      "\n",
      "Current Inventory List:\n",
      "- juice\n",
      "- oil\n",
      "- 4\n",
      "\n",
      "--- Inventory Menu ---\n",
      "1. Add item\n",
      "2. Remove item\n",
      "3. Check stock\n",
      "4. View inventory\n",
      "5. Exit\n",
      "Exiting Inventory Manager. Goodbye!\n"
     ]
    }
   ],
   "source": [
    "# Inventory Management Program\n",
    "inventory = []\n",
    "\n",
    "while True:\n",
    "    print(\"\\n--- Inventory Menu ---\")\n",
    "    print(\"1. Add item\")\n",
    "    print(\"2. Remove item\")\n",
    "    print(\"3. Check stock\")\n",
    "    print(\"4. View inventory\")\n",
    "    print(\"5. Exit\")\n",
    "\n",
    "    choice = input(\"Choose an option (1-5): \").strip()\n",
    "\n",
    "    if choice == \"1\":\n",
    "        item = input(\"Enter the item to add: \").strip().lower()\n",
    "        inventory.append(item)\n",
    "        print(f\"'{item}' added to inventory.\")\n",
    "\n",
    "    elif choice == \"2\":\n",
    "        item = input(\"Enter the item to remove: \").strip().lower()\n",
    "        if item in inventory:\n",
    "            inventory.remove(item)\n",
    "            print(f\"'{item}' removed from inventory.\")\n",
    "        else:\n",
    "            print(\"Item not found in inventory.\")\n",
    "\n",
    "    elif choice == \"3\":\n",
    "        item = input(\"Enter the item to check stock: \").strip().lower()\n",
    "        if item in inventory:\n",
    "            print(f\"{item} is in stock.\")\n",
    "        else:\n",
    "            print(f\"{item} is out of stock.\")\n",
    "\n",
    "    elif choice == \"4\":\n",
    "        if inventory:\n",
    "            print(\"\\nCurrent Inventory List:\")\n",
    "            for i in inventory:\n",
    "                print(f\"- {i}\")\n",
    "        else:\n",
    "            print(\"Inventory is empty.\")\n",
    "\n",
    "    elif choice == \"5\":\n",
    "        print(\"Exiting Inventory Manager. Goodbye!\")\n",
    "        break\n",
    "\n",
    "    else:\n",
    "        print(\"Invalid choice. Please select a number between 1 and 5.\")\n",
    "# --- Inventory Menu ---\n",
    "# 1. Add item\n",
    "# 2. Remove item\n",
    "# 3. Check stock\n",
    "# 4. View inventory\n",
    "# 5. Exit\n",
    "# 'juice' added to inventory.\n",
    "\n",
    "# --- Inventory Menu ---\n",
    "# 1. Add item\n",
    "# 2. Remove item\n",
    "# 3. Check stock\n",
    "# 4. View inventory\n",
    "# 5. Exit\n",
    "# 'oil' added to inventory.\n",
    "\n",
    "# --- Inventory Menu ---\n",
    "# 1. Add item\n",
    "# 2. Remove item\n",
    "# 3. Check stock\n",
    "# 4. View inventory\n",
    "# 5. Exit\n",
    "# '4' added to inventory.\n",
    "# ...\n",
    "# 3. Check stock\n",
    "# 4. View inventory\n",
    "# 5. Exit\n",
    "# Exiting Inventory Manager. Goodbye!\n"
   ]
  },
  {
   "cell_type": "markdown",
   "metadata": {},
   "source": [
    "##### Example 4:Collecting User Feedback\n",
    "- Use a list to collect and analyze user feedback."
   ]
  },
  {
   "cell_type": "code",
   "execution_count": null,
   "metadata": {},
   "outputs": [
    {
     "name": "stdout",
     "output_type": "stream",
     "text": [
      "\n",
      "Positive Feedback Count: 3\n",
      "\n",
      "User Feedback:\n",
      "- Great service!\n",
      "- Very satisfied\n",
      "- Could be better\n",
      "- Excellent experience\n",
      "- nice\n"
     ]
    }
   ],
   "source": [
    "# Collecting user feedback\n",
    "feedback = [\"Great service!\", \"Very satisfied\", \"Could be better\", \"Excellent experience\"]\n",
    "\n",
    "# Adding new feedback via input\n",
    "new_feedback = input(\"Enter your feedback: \")\n",
    "feedback.append(new_feedback)\n",
    "\n",
    "# Counting specific positive feedback\n",
    "positive_keywords = [\"great\", \"excellent\", \"awesome\", \"amazing\", \"very satisfied\"]\n",
    "positive_feedback_count = sum(1 for comment in feedback if any(word in comment.lower() for word in positive_keywords))\n",
    "print(f\"\\nPositive Feedback Count: {positive_feedback_count}\")\n",
    "\n",
    "# Printing all feedback\n",
    "print(\"\\nUser Feedback:\")\n",
    "for comment in feedback:\n",
    "    print(f\"- {comment}\")\n",
    "# Positive Feedback Count: 3\n",
    "\n",
    "# User Feedback:\n",
    "# - Great service!\n",
    "# - Very satisfied\n",
    "# - Could be better\n",
    "# - Excellent experience\n",
    "# - nice"
   ]
  },
  {
   "cell_type": "code",
   "execution_count": null,
   "metadata": {},
   "outputs": [],
   "source": []
  }
 ],
 "metadata": {
  "kernelspec": {
   "display_name": "Python 3",
   "language": "python",
   "name": "python3"
  },
  "language_info": {
   "codemirror_mode": {
    "name": "ipython",
    "version": 3
   },
   "file_extension": ".py",
   "mimetype": "text/x-python",
   "name": "python",
   "nbconvert_exporter": "python",
   "pygments_lexer": "ipython3",
   "version": "3.12.0"
  }
 },
 "nbformat": 4,
 "nbformat_minor": 2
}
